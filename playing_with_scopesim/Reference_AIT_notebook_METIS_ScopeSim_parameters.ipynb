{
 "cells": [
  {
   "cell_type": "markdown",
   "id": "4241536c-9e1e-4ffa-bf9c-37edf9606c10",
   "metadata": {},
   "source": [
    "# Reference ICS components to ScopeSim parameters\n",
    "\n",
    "| IP component ID | ICS component name | ScopeSim parameter | Comment |\n",
    "| :-: | :-: | :-: | :-: |\n",
    "| SEQ.WCU_BB_TEMP | NA | wcu.set_temperature(bb_temp=800) | ICS=Celsius, ScopeSim=Kelvin!! |\n",
    "| SEQ.WCU_OFF_NEXPO | NA | NA | - |\n",
    "| INS.OPTI1.NAME | cfo-pp1 | NA (see INS.OPTI18.NAME) | - |\n",
    "| INS.OPTI2.NAME | cfo-adc | metis['adc_wheel'].change_adc('const_90') | Only transmission |\n",
    "| INS.OPTI3.NAME | cfo-fp2 | metis['slit_wheel'].change_slit(\"B-28_6\") | Available for IMG+LSS |\n",
    "| INS.OPTI4.NAME | cfo-lms | Automatic if set_modes includes \"lms\" | - |\n",
    "| INS.OPTI5.NAME | lms-pwa | metis['cold_stop'].update_transmission(0) | Only transmission |\n",
    "| INS.OPTI6.NAME | lms-msa | set_modes['lms'] vs. set_modes['lms_extended'] | - |\n",
    "| INS.OPTI7.NAME | lms-pra | Computed automatically from !OBS.wavelen | - |\n",
    "| INS.OPTI8.NAME | lms-gra | Computed automatically from !OBS.wavelen | - |\n",
    "| INS.OPTI9.NAME | img-lm-pw | NA (see INS.OPTI18.NAME) | - |\n",
    "| INS.OPTI10.NAME | img-lm-fw | metis['filter_wheel'].change_filter(\"PAH_3.3\") | - |\n",
    "| INS.OPTI11.NAME | img-lm-ndf | metis['nd_filter_wheel'].change_filter(\"ND_OD2\") | - |\n",
    "| INS.OPTI12.NAME | img-n-pw | NA (see INS.OPTI18.NAME) | - |\n",
    "| INS.OPTI13.NAME | img-n-fw | metis['filter_wheel'].change_filter(\"PAH_8.6\") | - |\n",
    "| INS.OPTI14.NAME | img-n-ndf | metis['nd_filter_wheel'].change_filter(\"ND_OD4\") | - |\n",
    "| INS.OPTI15.NAME | img-lm-pi | NA  | - |\n",
    "| INS.OPTI16.NAME | img-n-pi | NA | - |\n",
    "| INS.OPTI17.NAME | wcu-per-arm | Add \"wcu_\" in instrument mode | - |\n",
    "| INS.OPTI18.NAME | wcu-pp1 | metis['pupil_masks'].change_mask('PPS_N') | Only sets transmission, not shape of the mask/PSF. |\n",
    "|  |  |  | Stand-in for all pupil mask wheels in the system... |\n",
    "| INS.OPTI19.NAME | wcu-bb-aperture-mask | wcu.set_bb_aperture(0) | Float |\n",
    "| INS.OPTI20.NAME | wcu-fp2-1 | wcu.set_fpmask(\"open\") | - |\n",
    "| DET?.DIT (?=1,2,3) | NA | metis.readout(dit=DIT, ndit=NDIT)[0] | - |\n",
    "| DET?.NDIT (?=1,2,3) | NA | metis.readout(dit=DIT, ndit=NDIT)[0] | - |\n",
    "| DET?.NEXPO (?=1,2,3) | NA | NA (yet) | - |\n",
    "| DET?.NCORRS.NAME (?=1,2,3) | NA | NA | - |\n",
    "* IP: Instrument package\n",
    "* NA: Not available\n",
    "* DET? = DET1: IMG-LM, DET2: IMG-N, DET3: LMS\n",
    "* [Full mapping spreadsheet ICS-ScopeSim](https://docs.google.com/spreadsheets/d/1nC4AdG2ZfkkJgwBkYO6OcVRh1_aqLS6S/edit?gid=1700070922#gid=1700070922)"
   ]
  },
  {
   "cell_type": "markdown",
   "id": "e8765667-04cd-4fa8-abb9-b5bd2ca22148",
   "metadata": {},
   "source": [
    "## Start ScopeSim"
   ]
  },
  {
   "cell_type": "code",
   "execution_count": 1,
   "id": "90cd5a96-7f26-4975-9a5a-f7dceb75b116",
   "metadata": {},
   "outputs": [],
   "source": [
    "import scopesim as sim"
   ]
  },
  {
   "cell_type": "code",
   "execution_count": 2,
   "id": "9e7dc70e-96ea-4b3b-9d2a-22d5984fc36e",
   "metadata": {},
   "outputs": [],
   "source": [
    "#--uncomment line below if you have not downloaded the ScopeSim Instrument Reference DataBase (IRDB)\n",
    "# sim.download_packages([\"ELT\", \"Armazones\", \"METIS\"])"
   ]
  },
  {
   "cell_type": "code",
   "execution_count": 2,
   "id": "6333aea5-d81c-4b1a-8885-fb3ece6b115b",
   "metadata": {},
   "outputs": [],
   "source": [
    "# absolute path to \"inst_pkgs\" folder downloaded in previous cell\n",
    "sim.set_inst_pkgs_path('/Users/u0111046/Desktop/python/metis_devel/notebooks/inst_pkgs/')"
   ]
  },
  {
   "cell_type": "code",
   "execution_count": 2,
   "id": "f46fc57c-2def-4568-9e8b-668cd474591b",
   "metadata": {},
   "outputs": [
    {
     "name": "stdout",
     "output_type": "stream",
     "text": [
      "Python:\n",
      "3.10.18 (main, Jun  5 2025, 13:08:10) [GCC 11.2.0]\n",
      "\n",
      "Installed Python packages:\n",
      "           anisocado: 0.3.0\n",
      "         astar-utils: 0.3.3\n",
      "             astropy: 6.1.7\n",
      "      beautifulsoup4: 4.13.4\n",
      "            docutils: 0.19\n",
      "               httpx: 0.28.1\n",
      "                lxml: 5.4.0\n",
      "          matplotlib: 3.10.5\n",
      "      more-itertools: 10.7.0\n",
      "               numpy: 1.26.4\n",
      "           packaging: 25.0\n",
      "               pooch: 1.8.2\n",
      "              pyyaml: 6.0.2\n",
      "               scipy: 1.15.3\n",
      "            scopesim: 0.10.0\n",
      "       scopesim_data: could not be loaded.\n",
      "  scopesim_templates: 0.6.2\n",
      "         skycalc-ipy: 0.5.3\n",
      "             synphot: 1.6.0\n",
      "                tqdm: 4.67.1\n",
      "\n",
      "Installed IRDB packages:\n",
      "  Armazones: 2023-07-11\n",
      "        ELT: 2025-06-30\n",
      "      METIS: 2025-06-30\n",
      "\n",
      "Operating System info:\n",
      "   System: Linux\n",
      "  Release: 6.12.13-200.fc41.aarch64\n",
      "  Version: #1 SMP PREEMPT_DYNAMIC Sat Feb  8 20:30:50 UTC 2025\n",
      "  Machine: aarch64\n"
     ]
    }
   ],
   "source": [
    "sim.bug_report()"
   ]
  },
  {
   "cell_type": "markdown",
   "id": "a267c850-30e0-4e7e-a645-2541eab9ee8d",
   "metadata": {},
   "source": [
    "## Pick optical path inside METIS (LMS, IMG-LM, IMG-N, LSS-L, LSS-M, LSS-N)"
   ]
  },
  {
   "cell_type": "code",
   "execution_count": 3,
   "id": "74f835ae-4caa-4865-883f-6d9fe73d8f61",
   "metadata": {},
   "outputs": [],
   "source": [
    "# Available modes: \"wcu_lms\", \"wcu_img_lm\", \"wcu_img_n\", \"wcu_lss_l\", \"wcu_lss_m\",  \"wcu_lss_n\"\n",
    "selected_mode = \"wcu_img_n\" \n",
    "\n",
    "cmd = sim.UserCommands(use_instrument=\"METIS\", set_modes=[selected_mode])"
   ]
  },
  {
   "cell_type": "code",
   "execution_count": 4,
   "id": "1738d2be-8127-4d82-a537-df5900fa2359",
   "metadata": {},
   "outputs": [],
   "source": [
    "metis = sim.OpticalTrain(cmd)"
   ]
  },
  {
   "cell_type": "markdown",
   "id": "90da2a42-7d72-4482-9df0-9dc11eb25eed",
   "metadata": {},
   "source": [
    "## Modify WCU"
   ]
  },
  {
   "cell_type": "markdown",
   "id": "f4f4b713-2081-4fa9-96be-7c33690a28db",
   "metadata": {},
   "source": [
    "### Change WCU blackbody temperature (ICS SEQ.WCU_BB_TEMP)\n",
    "* is_temp : integrating sphere temperature\n",
    "* wcu_temp : WCU box temperature"
   ]
  },
  {
   "cell_type": "code",
   "execution_count": 5,
   "id": "83a7fd3d-90b8-4717-a753-aa2b32ba7858",
   "metadata": {},
   "outputs": [],
   "source": [
    "wcu = metis['wcu_source'] # default values"
   ]
  },
  {
   "cell_type": "code",
   "execution_count": 6,
   "id": "c80d3a4f",
   "metadata": {},
   "outputs": [],
   "source": [
    "wcu.set_temperature(bb_temp=800,is_temp=300,wcu_temp=300) # KELVIN!!"
   ]
  },
  {
   "cell_type": "code",
   "execution_count": 7,
   "id": "eb4347a2-61ea-4596-8ae1-fc49d504c6a4",
   "metadata": {},
   "outputs": [
    {
     "name": "stdout",
     "output_type": "stream",
     "text": [
      "WCUSource: \"wcu_source\"\n",
      "Current lamp:            bb     ['bb', 'laser', 'none']\n",
      "BlackBody temperature:   800.0 K\n",
      "Integrating sphere temp: 300.0 K\n",
      "WCU temperature:         300.0 K\n",
      "BlackBody aperture:      1.0\n",
      "Focal-plane mask:        open  ['open', 'pinhole_lm', 'pinhole_n', 'grid_lm']\n",
      "\n"
     ]
    }
   ],
   "source": [
    "print(wcu) # default values"
   ]
  },
  {
   "cell_type": "code",
   "execution_count": 8,
   "id": "d6c4931d-97b3-45da-9fef-5c813412f1b9",
   "metadata": {},
   "outputs": [
    {
     "name": "stdout",
     "output_type": "stream",
     "text": [
      "WCUSource: \"wcu_source\"\n",
      "Current lamp:            bb     ['bb', 'laser', 'none']\n",
      "BlackBody temperature:   800.0 K\n",
      "Integrating sphere temp: 300.0 K\n",
      "WCU temperature:         300.0 K\n",
      "BlackBody aperture:      1.0\n",
      "Focal-plane mask:        open  ['open', 'pinhole_lm', 'pinhole_n', 'grid_lm']\n",
      "\n"
     ]
    }
   ],
   "source": [
    "print(wcu)"
   ]
  },
  {
   "cell_type": "markdown",
   "id": "ee629e5f-8370-4a45-8353-f5a274ae73a6",
   "metadata": {},
   "source": [
    "### Change WCU blackbody aperture mask (ICS INS.OPTI19.NAME)\n",
    "* ICS has 16 operable positions for the BB aperture mask, going from 0% transmission (CLOSED) to 100% transmission (OPEN) so 6.25% increase transmission each MASKXX step: CLOSED, OPEN, MASK01, MASK02, MASK03, MASK04, MASK05, MASK06, MASK07, MASK08, MASK09, MASK10, MASK11, MASK12, MASK13, MASK14"
   ]
  },
  {
   "cell_type": "code",
   "execution_count": 9,
   "id": "7d7e31ab-2d0b-4b82-978a-f80af9190d9a",
   "metadata": {},
   "outputs": [],
   "source": [
    "wcu.set_bb_aperture(0) # zero = METIS background"
   ]
  },
  {
   "cell_type": "code",
   "execution_count": 10,
   "id": "d822445b-556f-41db-a439-b64f85137e77",
   "metadata": {},
   "outputs": [
    {
     "name": "stdout",
     "output_type": "stream",
     "text": [
      "WCUSource: \"wcu_source\"\n",
      "Current lamp:            bb     ['bb', 'laser', 'none']\n",
      "BlackBody temperature:   800.0 K\n",
      "Integrating sphere temp: 300.0 K\n",
      "WCU temperature:         300.0 K\n",
      "BlackBody aperture:      0\n",
      "Focal-plane mask:        open  ['open', 'pinhole_lm', 'pinhole_n', 'grid_lm']\n",
      "\n"
     ]
    }
   ],
   "source": [
    "print(wcu)"
   ]
  },
  {
   "cell_type": "markdown",
   "id": "4d5cad93-09f5-4d55-b210-0c1aaf1814b0",
   "metadata": {},
   "source": [
    "### Change WCU source\n",
    "* Which laser is seen depends on the wavelength of the observation. Note that the tunable laser currently cannot be tuned."
   ]
  },
  {
   "cell_type": "code",
   "execution_count": 11,
   "id": "2445bba6-43bc-4981-b37c-032cca2de74b",
   "metadata": {},
   "outputs": [],
   "source": [
    "metis[\"wcu_source\"].set_lamp(\"none\")\n",
    "metis[\"wcu_source\"].set_lamp(\"bb\")\n",
    "metis[\"wcu_source\"].set_lamp(\"laser\")"
   ]
  },
  {
   "cell_type": "markdown",
   "id": "e73743f9-ff46-4508-abee-d167aad7a4ef",
   "metadata": {},
   "source": [
    "### Change WCU FP2.1 mask (INS.OPTI20.NAME)"
   ]
  },
  {
   "cell_type": "code",
   "execution_count": 13,
   "id": "5b3c28ec-4eac-466a-bb40-3d82558cb339",
   "metadata": {},
   "outputs": [],
   "source": [
    "wcu.set_fpmask(\"open\")\n",
    "wcu.set_fpmask(\"grid_lm\")\n",
    "#wcu.set_fpmask(\"grid_lms\")\n",
    "wcu.set_fpmask(\"pinhole_lm\")\n",
    "wcu.set_fpmask(\"pinhole_n\")"
   ]
  },
  {
   "cell_type": "markdown",
   "id": "451dc549-bd0b-4ab3-a34e-344f1270ef29",
   "metadata": {},
   "source": [
    "### Change WCU PP1 mask (INS.OPTI18.NAME)\n",
    "* Only sets transmission, not shape of the mask/PSF.\n",
    "* The WCU PP1 mask is a stand-in for all pupil mask wheels in the system.\n",
    "* In the ICS component name list there are: WCU_mask, AIV_mask, ELT_mask, REDUCED_mask"
   ]
  },
  {
   "cell_type": "code",
   "execution_count": 14,
   "id": "9a855551-9bed-46e4-a100-d998a0ab3037",
   "metadata": {},
   "outputs": [
    {
     "data": {
      "text/plain": [
       "PupilTransmission: \"open\""
      ]
     },
     "execution_count": 14,
     "metadata": {},
     "output_type": "execute_result"
    }
   ],
   "source": [
    "metis['pupil_masks'].current_mask"
   ]
  },
  {
   "cell_type": "code",
   "execution_count": 15,
   "id": "53cdb950-5846-4d46-a287-49029b3e8ad5",
   "metadata": {},
   "outputs": [
    {
     "data": {
      "text/html": [
       "<div><i>Table length=15</i>\n",
       "<table id=\"table281472048819616\" class=\"table-striped table-bordered table-condensed\">\n",
       "<thead><tr><th>names</th><th>transmissions</th></tr></thead>\n",
       "<thead><tr><th>str8</th><th>float64</th></tr></thead>\n",
       "<tr><td>APP-LMS</td><td>0.6098</td></tr>\n",
       "<tr><td>APP-LM</td><td>0.6312</td></tr>\n",
       "<tr><td>CLS-LMS</td><td>0.5879</td></tr>\n",
       "<tr><td>CLS-LM</td><td>0.6073</td></tr>\n",
       "<tr><td>CLS-N</td><td>0.5795</td></tr>\n",
       "<tr><td>PPS-LMS</td><td>0.7342</td></tr>\n",
       "<tr><td>PPS-LM</td><td>0.7509</td></tr>\n",
       "<tr><td>PPS-N</td><td>0.7429</td></tr>\n",
       "<tr><td>PPS-CFO2</td><td>0.617</td></tr>\n",
       "<tr><td>RLS-LMS</td><td>0.4362</td></tr>\n",
       "<tr><td>RLS-LM</td><td>0.4476</td></tr>\n",
       "<tr><td>SPM-LMS</td><td>0.6098</td></tr>\n",
       "<tr><td>SPM-LM</td><td>0.6312</td></tr>\n",
       "<tr><td>SPM-N</td><td>0.6076</td></tr>\n",
       "<tr><td>open</td><td>0.8201</td></tr>\n",
       "</table></div>"
      ],
      "text/plain": [
       "<Table length=15>\n",
       " names   transmissions\n",
       "  str8      float64   \n",
       "-------- -------------\n",
       " APP-LMS        0.6098\n",
       "  APP-LM        0.6312\n",
       " CLS-LMS        0.5879\n",
       "  CLS-LM        0.6073\n",
       "   CLS-N        0.5795\n",
       " PPS-LMS        0.7342\n",
       "  PPS-LM        0.7509\n",
       "   PPS-N        0.7429\n",
       "PPS-CFO2         0.617\n",
       " RLS-LMS        0.4362\n",
       "  RLS-LM        0.4476\n",
       " SPM-LMS        0.6098\n",
       "  SPM-LM        0.6312\n",
       "   SPM-N        0.6076\n",
       "    open        0.8201"
      ]
     },
     "execution_count": 15,
     "metadata": {},
     "output_type": "execute_result"
    }
   ],
   "source": [
    "metis['pupil_masks'].table"
   ]
  },
  {
   "cell_type": "code",
   "execution_count": 16,
   "id": "037d0704-ef90-443b-8065-bbe17c57aa03",
   "metadata": {},
   "outputs": [],
   "source": [
    "metis['pupil_masks'].change_mask('open')\n",
    "metis['pupil_masks'].change_mask('APP-LMS')"
   ]
  },
  {
   "cell_type": "code",
   "execution_count": 17,
   "id": "f875c986-b309-41de-811b-4b8e74a626db",
   "metadata": {},
   "outputs": [
    {
     "data": {
      "text/plain": [
       "PupilTransmission: \"APP-LMS\""
      ]
     },
     "execution_count": 17,
     "metadata": {},
     "output_type": "execute_result"
    }
   ],
   "source": [
    "metis['pupil_masks'].current_mask"
   ]
  },
  {
   "cell_type": "markdown",
   "id": "63ca2c62-7b56-44a2-8ee6-cd3cb0176d98",
   "metadata": {},
   "source": [
    "### Change WCU periscopic arm (INS.OPTI17.NAME) --> Set by adding \"wcu_\" in the set modes"
   ]
  },
  {
   "cell_type": "markdown",
   "id": "b9bba660-7af2-4849-8487-c65d0ddce7ac",
   "metadata": {},
   "source": [
    "## Modify CFO"
   ]
  },
  {
   "cell_type": "markdown",
   "id": "3f965330-61d6-48a9-b189-acb2e43841dd",
   "metadata": {},
   "source": [
    "### Change CFO-PP1 configuration (INS.OPTI1.NAME) --> Go to WCU-PP1 mask"
   ]
  },
  {
   "cell_type": "markdown",
   "id": "e7941a16-729e-429d-8b06-6f8075640146",
   "metadata": {},
   "source": [
    "### Change CFO-ADC configuration (INS.OPTI2.NAME) \n",
    "* False means no ADC is inserted."
   ]
  },
  {
   "cell_type": "code",
   "execution_count": 18,
   "id": "b1a01e73-cba7-4478-82d5-0ff87ee38a4c",
   "metadata": {},
   "outputs": [
    {
     "data": {
      "text/plain": [
       "False"
      ]
     },
     "execution_count": 18,
     "metadata": {},
     "output_type": "execute_result"
    }
   ],
   "source": [
    "metis['adc_wheel'].current_adc"
   ]
  },
  {
   "cell_type": "code",
   "execution_count": 19,
   "id": "e9273243-df33-4a62-8013-75049b463e18",
   "metadata": {},
   "outputs": [
    {
     "data": {
      "text/html": [
       "<div><i>Table length=1</i>\n",
       "<table id=\"table281472048550896\" class=\"table-striped table-bordered table-condensed\">\n",
       "<thead><tr><th>name</th><th>max_transmission</th></tr></thead>\n",
       "<thead><tr><th>str8</th><th>float64</th></tr></thead>\n",
       "<tr><td>const_90</td><td>0.9</td></tr>\n",
       "</table></div>"
      ],
      "text/plain": [
       "<Table length=1>\n",
       "  name   max_transmission\n",
       "  str8       float64     \n",
       "-------- ----------------\n",
       "const_90              0.9"
      ]
     },
     "execution_count": 19,
     "metadata": {},
     "output_type": "execute_result"
    }
   ],
   "source": [
    "metis['adc_wheel'].table"
   ]
  },
  {
   "cell_type": "code",
   "execution_count": 20,
   "id": "486678d8-b51e-4bf5-8061-0b0f4b53128b",
   "metadata": {},
   "outputs": [],
   "source": [
    "metis['adc_wheel'].change_adc('const_90')"
   ]
  },
  {
   "cell_type": "markdown",
   "id": "fa9b46e9-a464-4f7d-9813-52a58c941c52",
   "metadata": {},
   "source": [
    "### Change CFO-FP2 mask (INS.OPTI3.NAME)\n",
    "* False means no slit inserted. Available in img and lss modes."
   ]
  },
  {
   "cell_type": "code",
   "execution_count": 21,
   "id": "eb4a569a-2721-42e0-8e4f-bda8a0401ae7",
   "metadata": {},
   "outputs": [
    {
     "data": {
      "text/plain": [
       "False"
      ]
     },
     "execution_count": 21,
     "metadata": {},
     "output_type": "execute_result"
    }
   ],
   "source": [
    "metis['slit_wheel'].current_slit"
   ]
  },
  {
   "cell_type": "code",
   "execution_count": 22,
   "id": "68df291e-096d-4813-977c-133242adfc92",
   "metadata": {},
   "outputs": [
    {
     "data": {
      "text/html": [
       "<div><i>Table length=5</i>\n",
       "<table id=\"table281472048975008\" class=\"table-striped table-bordered table-condensed\">\n",
       "<thead><tr><th>name</th><th>x_centre</th><th>y_centre</th><th>length</th><th>width</th></tr></thead>\n",
       "<thead><tr><th></th><th>mas</th><th>mas</th><th>mas</th><th>mas</th></tr></thead>\n",
       "<thead><tr><th>str7</th><th>float64</th><th>float64</th><th>float64</th><th>float64</th></tr></thead>\n",
       "<tr><td>A-19_0</td><td>0.0</td><td>0.0</td><td>8000.0</td><td>19.0</td></tr>\n",
       "<tr><td>B-28_6</td><td>0.0</td><td>0.0</td><td>8000.0</td><td>28.6</td></tr>\n",
       "<tr><td>C-38_1</td><td>0.0</td><td>0.0</td><td>8000.0</td><td>38.1</td></tr>\n",
       "<tr><td>D-57_1</td><td>0.0</td><td>0.0</td><td>8000.0</td><td>57.1</td></tr>\n",
       "<tr><td>E-114_2</td><td>0.0</td><td>0.0</td><td>8000.0</td><td>114.2</td></tr>\n",
       "</table></div>"
      ],
      "text/plain": [
       "<Table length=5>\n",
       "  name  x_centre y_centre  length  width \n",
       "          mas      mas      mas     mas  \n",
       "  str7  float64  float64  float64 float64\n",
       "------- -------- -------- ------- -------\n",
       " A-19_0      0.0      0.0  8000.0    19.0\n",
       " B-28_6      0.0      0.0  8000.0    28.6\n",
       " C-38_1      0.0      0.0  8000.0    38.1\n",
       " D-57_1      0.0      0.0  8000.0    57.1\n",
       "E-114_2      0.0      0.0  8000.0   114.2"
      ]
     },
     "execution_count": 22,
     "metadata": {},
     "output_type": "execute_result"
    }
   ],
   "source": [
    "metis['slit_wheel'].table"
   ]
  },
  {
   "cell_type": "code",
   "execution_count": 23,
   "id": "e1fd73ae-d3f9-410d-ad98-7b1148b5994e",
   "metadata": {},
   "outputs": [],
   "source": [
    "metis['slit_wheel'].change_slit('A-19_0')"
   ]
  },
  {
   "cell_type": "code",
   "execution_count": 24,
   "id": "054a6ba6-e42c-4706-800e-3b49a992914e",
   "metadata": {},
   "outputs": [
    {
     "data": {
      "text/plain": [
       "ApertureMask: \"A-19_0\""
      ]
     },
     "execution_count": 24,
     "metadata": {},
     "output_type": "execute_result"
    }
   ],
   "source": [
    "metis['slit_wheel'].current_slit"
   ]
  },
  {
   "cell_type": "markdown",
   "id": "111e3d05-ad80-4a30-bc00-729d68a341ca",
   "metadata": {},
   "source": [
    "### Change CFO-LMS (INS.OPTI4.NAME) --> automatically set when choosing the optical path (LMS vs IMG)"
   ]
  },
  {
   "cell_type": "markdown",
   "id": "c219d0b1-a1f4-4006-8aeb-caac710f79ac",
   "metadata": {},
   "source": [
    "## Modify LMS"
   ]
  },
  {
   "cell_type": "markdown",
   "id": "6633c06e-9440-4b1b-84f4-9e8bddc3febf",
   "metadata": {},
   "source": [
    "### Change LMS pupil wheel assembly position (INS.OPTI5.NAME)\n",
    "* Only transmission change (0 to 1)\n",
    "* Only available with \"wcu_lms\" mode"
   ]
  },
  {
   "cell_type": "code",
   "execution_count": 25,
   "id": "e3d33b4f-e22c-44ea-a108-62f5fd4e7a54",
   "metadata": {},
   "outputs": [],
   "source": [
    "metis['cold_stop'].update_transmission(0) # zero = LMS instrument background"
   ]
  },
  {
   "cell_type": "markdown",
   "id": "9b0933fd-f4b9-43a2-94e9-5f5e3b45d3e7",
   "metadata": {},
   "source": [
    "### Change LMS mode selector assembly (INS.OPTI6.NAME), LMS nominal vs extended --> Extended not yet available"
   ]
  },
  {
   "cell_type": "markdown",
   "id": "fa74e9b0-b7a1-42df-aae6-aae70c22e55c",
   "metadata": {},
   "source": [
    "### Change LMS pre-disperser grating angle (INS.OPTI7.NAME) --> Not user-accessible (see wavelength change below)"
   ]
  },
  {
   "cell_type": "markdown",
   "id": "84f68cdf-7054-4c74-9084-d8b3195c88f8",
   "metadata": {},
   "source": [
    "### Change LMS main grating angle (INS.OPTI8.NAME) --> Not user-accessible (see wavelength change below)"
   ]
  },
  {
   "cell_type": "markdown",
   "id": "20617998-b737-4c49-9066-99431a06a900",
   "metadata": {},
   "source": [
    "### Change LMS wavelength band\n",
    "* ScopeSim automatically \"propagates\" the wavelengths on the detector using the central (!) wavelength value provided"
   ]
  },
  {
   "cell_type": "code",
   "execution_count": 26,
   "id": "13989ab4-016b-456c-91b8-0691cc4d0ef2",
   "metadata": {},
   "outputs": [],
   "source": [
    "cmd['!OBS.wavelen'] = 3. # micron"
   ]
  },
  {
   "cell_type": "markdown",
   "id": "292c68fa-e097-4fa5-8459-f83103cb55e6",
   "metadata": {},
   "source": [
    "## Modify IMG"
   ]
  },
  {
   "cell_type": "markdown",
   "id": "db1ca6c0-82a2-427e-a246-0d964f059096",
   "metadata": {},
   "source": [
    "### Change IMG-LM pupil wheel (INS.OPTI9.NAME) --> See WCU PP1 mask"
   ]
  },
  {
   "cell_type": "markdown",
   "id": "53ed737c-07b7-475d-86b4-c8deafc12f86",
   "metadata": {},
   "source": [
    "### Change IMG-LM filter wheel (INS.OPTI10.NAME)"
   ]
  },
  {
   "cell_type": "code",
   "execution_count": 27,
   "id": "37b785ed-46c8-4b7d-878d-89dcb39baf88",
   "metadata": {},
   "outputs": [
    {
     "data": {
      "text/plain": [
       "FilterCurve: \"N2\""
      ]
     },
     "execution_count": 27,
     "metadata": {},
     "output_type": "execute_result"
    }
   ],
   "source": [
    "metis['filter_wheel'].current_filter"
   ]
  },
  {
   "cell_type": "code",
   "execution_count": 28,
   "id": "1f87305a-4f6e-40b8-81bd-778ad8bda96b",
   "metadata": {},
   "outputs": [
    {
     "data": {
      "text/html": [
       "<div><i>Table length=13</i>\n",
       "<table id=\"table281472048980672\" class=\"table-striped table-bordered table-condensed\">\n",
       "<thead><tr><th>name</th><th>centre</th><th>width</th><th>blue cutoff</th><th>red cutoff</th></tr></thead>\n",
       "<thead><tr><th></th><th>um</th><th>um</th><th>um</th><th>um</th></tr></thead>\n",
       "<thead><tr><th>str13</th><th>float64</th><th>float64</th><th>float64</th><th>float64</th></tr></thead>\n",
       "<tr><td>open</td><td>17.998230088495575</td><td>17.4</td><td>9.298230088495576</td><td>26.698230088495574</td></tr>\n",
       "<tr><td>N1</td><td>8.66068689793173</td><td>1.1239999999999988</td><td>8.098686897931731</td><td>9.22268689793173</td></tr>\n",
       "<tr><td>N2</td><td>11.244267200781763</td><td>2.4000000000000004</td><td>10.044267200781764</td><td>12.444267200781763</td></tr>\n",
       "<tr><td>N3</td><td>12.273481988606383</td><td>1.2880000000000003</td><td>11.629481988606383</td><td>12.917481988606383</td></tr>\n",
       "<tr><td>N_spec</td><td>10.790440751142613</td><td>5.964</td><td>7.808440751142613</td><td>13.772440751142614</td></tr>\n",
       "<tr><td>PAH_8.6</td><td>8.616128702357406</td><td>0.4350000000000005</td><td>8.398628702357406</td><td>8.833628702357405</td></tr>\n",
       "<tr><td>PAH_8.6_ref</td><td>9.082684298922404</td><td>0.33800000000000097</td><td>8.913684298922403</td><td>9.251684298922404</td></tr>\n",
       "<tr><td>PAH_11.25</td><td>11.286521117174097</td><td>0.3509999999999991</td><td>11.111021117174097</td><td>11.462021117174096</td></tr>\n",
       "<tr><td>PAH_11.25_ref</td><td>11.592813335049604</td><td>0.3539999999999992</td><td>11.415813335049604</td><td>11.769813335049603</td></tr>\n",
       "<tr><td>Ne_II</td><td>12.739593268048123</td><td>0.2190000000000012</td><td>12.630093268048123</td><td>12.849093268048124</td></tr>\n",
       "<tr><td>Ne_II_ref</td><td>13.078989516551067</td><td>0.22100000000000009</td><td>12.968489516551067</td><td>13.189489516551067</td></tr>\n",
       "<tr><td>S_IV</td><td>10.549063233959329</td><td>0.19500000000000028</td><td>10.451563233959329</td><td>10.646563233959329</td></tr>\n",
       "<tr><td>S_IV_ref</td><td>10.826718764606904</td><td>0.2159999999999993</td><td>10.718718764606905</td><td>10.934718764606902</td></tr>\n",
       "</table></div>"
      ],
      "text/plain": [
       "<Table length=13>\n",
       "     name           centre       ...    blue cutoff         red cutoff    \n",
       "                      um         ...         um                 um        \n",
       "    str13          float64       ...      float64            float64      \n",
       "------------- ------------------ ... ------------------ ------------------\n",
       "         open 17.998230088495575 ...  9.298230088495576 26.698230088495574\n",
       "           N1   8.66068689793173 ...  8.098686897931731   9.22268689793173\n",
       "           N2 11.244267200781763 ... 10.044267200781764 12.444267200781763\n",
       "           N3 12.273481988606383 ... 11.629481988606383 12.917481988606383\n",
       "       N_spec 10.790440751142613 ...  7.808440751142613 13.772440751142614\n",
       "      PAH_8.6  8.616128702357406 ...  8.398628702357406  8.833628702357405\n",
       "  PAH_8.6_ref  9.082684298922404 ...  8.913684298922403  9.251684298922404\n",
       "    PAH_11.25 11.286521117174097 ... 11.111021117174097 11.462021117174096\n",
       "PAH_11.25_ref 11.592813335049604 ... 11.415813335049604 11.769813335049603\n",
       "        Ne_II 12.739593268048123 ... 12.630093268048123 12.849093268048124\n",
       "    Ne_II_ref 13.078989516551067 ... 12.968489516551067 13.189489516551067\n",
       "         S_IV 10.549063233959329 ... 10.451563233959329 10.646563233959329\n",
       "     S_IV_ref 10.826718764606904 ... 10.718718764606905 10.934718764606902"
      ]
     },
     "execution_count": 28,
     "metadata": {},
     "output_type": "execute_result"
    }
   ],
   "source": [
    "metis['filter_wheel'].table"
   ]
  },
  {
   "cell_type": "code",
   "execution_count": 29,
   "id": "c3412f38-778a-4057-a0cf-f8c27b4aa742",
   "metadata": {},
   "outputs": [],
   "source": [
    "metis['filter_wheel'].change_filter(\"PAH_8.6\")"
   ]
  },
  {
   "cell_type": "code",
   "execution_count": 30,
   "id": "85617962-c44a-480a-a8ad-0cca9cb76b04",
   "metadata": {},
   "outputs": [
    {
     "data": {
      "text/plain": [
       "FilterCurve: \"PAH_8.6\""
      ]
     },
     "execution_count": 30,
     "metadata": {},
     "output_type": "execute_result"
    }
   ],
   "source": [
    "metis['filter_wheel'].current_filter"
   ]
  },
  {
   "cell_type": "markdown",
   "id": "2396c1b6-e7d3-4f55-8847-d1a778f15b49",
   "metadata": {},
   "source": [
    "### Change IMG-LM neutral density filter (INS.OPTI11.NAME)"
   ]
  },
  {
   "cell_type": "code",
   "execution_count": 31,
   "id": "f3cf105a-b596-4474-bd26-69289e679172",
   "metadata": {},
   "outputs": [
    {
     "name": "stdout",
     "output_type": "stream",
     "text": [
      "FilterCurve: \"open\"\n"
     ]
    }
   ],
   "source": [
    "print(metis['nd_filter_wheel'].current_filter)"
   ]
  },
  {
   "cell_type": "code",
   "execution_count": 32,
   "id": "710181e1-2d79-4aad-b3bf-dc316e958864",
   "metadata": {},
   "outputs": [
    {
     "data": {
      "text/html": [
       "<div><i>Table length=5</i>\n",
       "<table id=\"table281472048981968\" class=\"table-striped table-bordered table-condensed\">\n",
       "<thead><tr><th>name</th><th>centre</th><th>width</th><th>blue cutoff</th><th>red cutoff</th></tr></thead>\n",
       "<thead><tr><th></th><th>um</th><th>um</th><th>um</th><th>um</th></tr></thead>\n",
       "<thead><tr><th>str6</th><th>float64</th><th>float64</th><th>float64</th><th>float64</th></tr></thead>\n",
       "<tr><td>open</td><td>17.998230088495575</td><td>17.4</td><td>9.298230088495576</td><td>26.698230088495574</td></tr>\n",
       "<tr><td>ND_OD1</td><td>17.998230088495575</td><td>0.0</td><td>17.998230088495575</td><td>17.998230088495575</td></tr>\n",
       "<tr><td>ND_OD2</td><td>17.99823008849557</td><td>0.0</td><td>17.99823008849557</td><td>17.99823008849557</td></tr>\n",
       "<tr><td>ND_OD3</td><td>17.99823008849558</td><td>0.0</td><td>17.99823008849558</td><td>17.99823008849558</td></tr>\n",
       "<tr><td>ND_OD4</td><td>17.99823008849558</td><td>0.0</td><td>17.99823008849558</td><td>17.99823008849558</td></tr>\n",
       "</table></div>"
      ],
      "text/plain": [
       "<Table length=5>\n",
       " name        centre        width     blue cutoff         red cutoff    \n",
       "               um            um           um                 um        \n",
       " str6       float64       float64      float64            float64      \n",
       "------ ------------------ ------- ------------------ ------------------\n",
       "  open 17.998230088495575    17.4  9.298230088495576 26.698230088495574\n",
       "ND_OD1 17.998230088495575     0.0 17.998230088495575 17.998230088495575\n",
       "ND_OD2  17.99823008849557     0.0  17.99823008849557  17.99823008849557\n",
       "ND_OD3  17.99823008849558     0.0  17.99823008849558  17.99823008849558\n",
       "ND_OD4  17.99823008849558     0.0  17.99823008849558  17.99823008849558"
      ]
     },
     "execution_count": 32,
     "metadata": {},
     "output_type": "execute_result"
    }
   ],
   "source": [
    "metis['nd_filter_wheel'].table"
   ]
  },
  {
   "cell_type": "code",
   "execution_count": 33,
   "id": "caaa7fcc-b955-422e-a252-98f0b40976d3",
   "metadata": {},
   "outputs": [],
   "source": [
    "metis['nd_filter_wheel'].change_filter(\"ND_OD2\")"
   ]
  },
  {
   "cell_type": "code",
   "execution_count": 34,
   "id": "16f0c2e1-58f9-465f-929e-a6ac0189fbf5",
   "metadata": {},
   "outputs": [
    {
     "name": "stdout",
     "output_type": "stream",
     "text": [
      "FilterCurve: \"ND_OD2\"\n"
     ]
    }
   ],
   "source": [
    "print(metis['nd_filter_wheel'].current_filter)"
   ]
  },
  {
   "cell_type": "markdown",
   "id": "2a25ddf1-9f5f-4cf6-99a0-0721ad246ebd",
   "metadata": {},
   "source": [
    "### Change IMG-N pupil wheel (INS.OPTI12.NAME) --> See WCU PP1 mask"
   ]
  },
  {
   "cell_type": "markdown",
   "id": "d582b0f9-8f74-408c-ab52-d8c8bf7f01dc",
   "metadata": {},
   "source": [
    "### Change IMG-N pupil wheel (INS.OPTI13.NAME) --> Same as IMG-LM filter wheel"
   ]
  },
  {
   "cell_type": "markdown",
   "id": "c7e9a453-b802-455e-b251-14f7db2c9770",
   "metadata": {},
   "source": [
    "### Change IMG-N neutral density filter (INS.OPTI14.NAME) --> Same as IMG-N neutral density filter"
   ]
  },
  {
   "cell_type": "markdown",
   "id": "ac8a5ebb-68b7-47d2-8753-e817779d130b",
   "metadata": {},
   "source": [
    "### Change IMG-LM pupil imaging (INS.OPTI15.NAME) --> Not available"
   ]
  },
  {
   "cell_type": "markdown",
   "id": "fef66265-d0f7-4b2f-b0d2-999ac6b85f8c",
   "metadata": {},
   "source": [
    "### Change IMG-N pupil imaging (INS.OPTI16.NAME) --> Not available"
   ]
  },
  {
   "cell_type": "markdown",
   "id": "dbafbabe-d463-4835-bac8-ab5b091bc2f6",
   "metadata": {},
   "source": [
    "## Set DET exposure parameters"
   ]
  },
  {
   "cell_type": "markdown",
   "id": "399ae7ac-0c4a-4d0b-b87e-e810516a6731",
   "metadata": {},
   "source": [
    "### Change detector integration time and number of integrations (DET?.DIT, DET?.NDIT, DET?.NEXPO, ?=1,2,3)\n",
    "* ?=1 : IMG-LM\n",
    "* ?=2 : IMG-N\n",
    "* ?=3 : LMS"
   ]
  },
  {
   "cell_type": "code",
   "execution_count": 35,
   "id": "a1f0d734-7fed-494d-a547-b6faaa50ffa5",
   "metadata": {},
   "outputs": [],
   "source": [
    "DIT = 20 # detector integration time, seconds\n",
    "NDIT = 5 # number of integrations\n",
    "NEXPO = 1 # NOT CURRENTLY AVAILABLE IN SCOPESIM"
   ]
  },
  {
   "cell_type": "code",
   "execution_count": 36,
   "id": "c986ed3c-9fa4-4b30-8311-35f9085fe207",
   "metadata": {},
   "outputs": [
    {
     "name": "stdout",
     "output_type": "stream",
     "text": [
      "\u001b[32mastar.scopesim.effects.electronic - Exposure parameters: DIT = 20.000 s, NDIT = 5\u001b[0m\n",
      "\u001b[32mastar.scopesim.effects.electronic - Total exposure time: 100.000 s\u001b[0m\n",
      "\u001b[32mastar.scopesim.detector.detector_manager - Extracting from 1 detectors...\u001b[0m\n",
      "\u001b[32mastar.scopesim.effects.electronic - Applying gain 201\u001b[0m\n",
      "\u001b[32mastar.scopesim.effects.electronic - Applying digitization to dtype float32.\u001b[0m\n",
      "\u001b[32mastar.scopesim.effects.electronic - Exposure parameters: DIT = 20.000 s, NDIT = 5\u001b[0m\n",
      "\u001b[32mastar.scopesim.effects.electronic - Total exposure time: 100.000 s\u001b[0m\n",
      "\u001b[35mastar.scopesim.effects.fits_headers - WARNING: #cold_stop.transmission! not found\u001b[0m\n"
     ]
    },
    {
     "data": {
      "text/plain": [
       "[<astropy.io.fits.hdu.image.PrimaryHDU object at 0xffff515687c0>, <astropy.io.fits.hdu.image.ImageHDU object at 0xffff514027d0>]"
      ]
     },
     "execution_count": 36,
     "metadata": {},
     "output_type": "execute_result"
    }
   ],
   "source": [
    "metis.readout(dit=DIT, ndit=NDIT)[0]"
   ]
  },
  {
   "cell_type": "markdown",
   "id": "b22eedc4-c88a-457c-b65d-0b65aa8c2d2a",
   "metadata": {},
   "source": [
    "### Change readout mode (DET?.NCORRS.NAME) --> Not available"
   ]
  },
  {
   "cell_type": "code",
   "execution_count": null,
   "id": "14bba427-1128-4f5a-b511-0023ad3ddf21",
   "metadata": {},
   "outputs": [],
   "source": []
  }
 ],
 "metadata": {
  "kernelspec": {
   "display_name": "Python 3 (ipykernel)",
   "language": "python",
   "name": "python3"
  },
  "language_info": {
   "codemirror_mode": {
    "name": "ipython",
    "version": 3
   },
   "file_extension": ".py",
   "mimetype": "text/x-python",
   "name": "python",
   "nbconvert_exporter": "python",
   "pygments_lexer": "ipython3",
   "version": "3.10.18"
  }
 },
 "nbformat": 4,
 "nbformat_minor": 5
}
