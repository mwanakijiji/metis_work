{
 "cells": [
  {
   "cell_type": "markdown",
   "metadata": {},
   "source": [
    "# Test ADC wheel\n",
    "\n",
    "This notebook demonstrates how to use the various atmospheric dispersion correctors in METIS. Note that the action of an adc is currently restricted to a transmission loss. The implementation of the geometric differential refraction residuals will follow at a later stage."
   ]
  },
  {
   "cell_type": "code",
   "execution_count": 1,
   "metadata": {},
   "outputs": [
    {
     "name": "stdout",
     "output_type": "stream",
     "text": [
      "Python:\n",
      "3.10.18 (main, Jun  5 2025, 13:08:10) [GCC 11.2.0]\n",
      "\n",
      "Installed Python packages:\n",
      "           anisocado: 0.3.0\n",
      "         astar-utils: 0.3.3\n",
      "             astropy: 6.1.7\n",
      "      beautifulsoup4: 4.13.4\n",
      "            docutils: 0.19\n",
      "               httpx: 0.28.1\n",
      "                lxml: 5.4.0\n",
      "          matplotlib: 3.10.5\n",
      "      more-itertools: 10.7.0\n",
      "               numpy: 1.26.4\n",
      "           packaging: 25.0\n",
      "               pooch: 1.8.2\n",
      "              pyyaml: 6.0.2\n",
      "               scipy: 1.15.3\n",
      "            scopesim: 0.10.0\n",
      "       scopesim_data: could not be loaded.\n",
      "  scopesim_templates: could not be loaded.\n",
      "         skycalc-ipy: 0.5.3\n",
      "             synphot: 1.6.0\n",
      "                tqdm: 4.67.1\n",
      "\n",
      "Installed IRDB packages:\n",
      "  Armazones: 2023-07-11\n",
      "        ELT: 2025-06-30\n",
      "      METIS: 2025-06-30\n",
      "\n",
      "Operating System info:\n",
      "   System: Linux\n",
      "  Release: 6.12.13-200.fc41.aarch64\n",
      "  Version: #1 SMP PREEMPT_DYNAMIC Sat Feb  8 20:30:50 UTC 2025\n",
      "  Machine: aarch64\n"
     ]
    }
   ],
   "source": [
    "import scopesim as sim\n",
    "sim.bug_report()\n",
    "\n",
    "# Edit this path if you have a custom install directory, otherwise comment it out.\n",
    "sim.link_irdb(\"../../../../\") "
   ]
  },
  {
   "cell_type": "code",
   "execution_count": 2,
   "metadata": {},
   "outputs": [],
   "source": [
    "import numpy as np"
   ]
  },
  {
   "cell_type": "markdown",
   "metadata": {},
   "source": [
    "If you haven't got the instrument packages yet, uncomment the following cell"
   ]
  },
  {
   "cell_type": "code",
   "execution_count": null,
   "metadata": {},
   "outputs": [],
   "source": [
    "# sim.download_packages([\"METIS\", \"ELT\", \"Armazones\"]) "
   ]
  },
  {
   "cell_type": "code",
   "execution_count": 3,
   "metadata": {},
   "outputs": [],
   "source": [
    "cmd = sim.UserCommands(use_instrument=\"METIS\", set_modes=['img_lm'])"
   ]
  },
  {
   "cell_type": "markdown",
   "metadata": {},
   "source": [
    "The ADC to use is defined by `\"!OBS.adc\"`. This can be set to `false` when no ADC is in the path. The default for LM band imaging is"
   ]
  },
  {
   "cell_type": "code",
   "execution_count": 4,
   "metadata": {},
   "outputs": [
    {
     "data": {
      "text/plain": [
       "'const_90'"
      ]
     },
     "execution_count": 4,
     "metadata": {},
     "output_type": "execute_result"
    }
   ],
   "source": [
    "cmd[\"!OBS.adc\"]"
   ]
  },
  {
   "cell_type": "code",
   "execution_count": 5,
   "metadata": {},
   "outputs": [],
   "source": [
    "metis = sim.OpticalTrain(cmd)"
   ]
  },
  {
   "cell_type": "markdown",
   "metadata": {},
   "source": [
    "The effect `metis['adc_wheel']` works the same way as e.g. `metis['filter_wheel']`. The following ADCs are now available (yes, there's only one) and can be selected with `metis['adc_wheel'].change_adc()` as demonstrated below."
   ]
  },
  {
   "cell_type": "code",
   "execution_count": 6,
   "metadata": {
    "scrolled": true
   },
   "outputs": [
    {
     "data": {
      "text/html": [
       "<div><i>Table length=1</i>\n",
       "<table id=\"table281471538963712\" class=\"table-striped table-bordered table-condensed\">\n",
       "<thead><tr><th>name</th><th>max_transmission</th></tr></thead>\n",
       "<thead><tr><th>str8</th><th>float64</th></tr></thead>\n",
       "<tr><td>const_90</td><td>0.9</td></tr>\n",
       "</table></div>"
      ],
      "text/plain": [
       "<Table length=1>\n",
       "  name   max_transmission\n",
       "  str8       float64     \n",
       "-------- ----------------\n",
       "const_90              0.9"
      ]
     },
     "execution_count": 6,
     "metadata": {},
     "output_type": "execute_result"
    }
   ],
   "source": [
    "metis['adc_wheel'].get_table()"
   ]
  },
  {
   "cell_type": "markdown",
   "metadata": {},
   "source": [
    "Run a simulation with the ADC in the path (`observe()` without a source observe empty sky):"
   ]
  },
  {
   "cell_type": "code",
   "execution_count": 7,
   "metadata": {},
   "outputs": [
    {
     "name": "stdout",
     "output_type": "stream",
     "text": [
      "\u001b[32mastar.scopesim.optics.optical_train - Observing empty field\u001b[0m\n"
     ]
    }
   ],
   "source": [
    "metis.observe()\n",
    "implane_adc = metis.image_planes[0].data"
   ]
  },
  {
   "cell_type": "markdown",
   "metadata": {},
   "source": [
    "Now remove the ADC from the path by changing to `False`. Run the simulation without the ADC:"
   ]
  },
  {
   "cell_type": "code",
   "execution_count": 8,
   "metadata": {},
   "outputs": [],
   "source": [
    "metis['adc_wheel'].change_adc(False)"
   ]
  },
  {
   "cell_type": "code",
   "execution_count": 9,
   "metadata": {},
   "outputs": [
    {
     "name": "stdout",
     "output_type": "stream",
     "text": [
      "\u001b[32mastar.scopesim.optics.optical_train - Observing empty field\u001b[0m\n"
     ]
    }
   ],
   "source": [
    "metis.observe()\n",
    "implane_no_adc = metis.image_planes[0].data"
   ]
  },
  {
   "cell_type": "markdown",
   "metadata": {},
   "source": [
    "Compare the image plane simulated with and without the ADC. The ratio should be equal to the throughput of the ADC (90 per cent):"
   ]
  },
  {
   "cell_type": "code",
   "execution_count": 10,
   "metadata": {},
   "outputs": [
    {
     "name": "stdout",
     "output_type": "stream",
     "text": [
      "With ADC:    242637.3\n",
      "Without ADC: 269597.0\n",
      "Ratio:       0.9\n"
     ]
    }
   ],
   "source": [
    "med_adc = np.median(implane_adc)\n",
    "med_no_adc = np.median(implane_no_adc)\n",
    "print(\"With ADC:    {:.1f}\".format(np.median(med_adc)))\n",
    "print(\"Without ADC: {:.1f}\".format(np.median(med_no_adc)))\n",
    "print(\"Ratio:       {:.1f}\".format(med_adc/med_no_adc))"
   ]
  },
  {
   "cell_type": "code",
   "execution_count": 12,
   "metadata": {},
   "outputs": [
    {
     "data": {
      "image/png": "[encoded data removed]",
      "text/plain": [
       "<Figure size 640x480 with 1 Axes>"
      ]
     },
     "metadata": {},
     "output_type": "display_data"
    }
   ],
   "source": [
    "import matplotlib.pyplot as plt\n",
    "plt.imshow(implane_adc)\n",
    "plt.show()"
   ]
  },
  {
   "cell_type": "code",
   "execution_count": null,
   "metadata": {},
   "outputs": [],
   "source": []
  }
 ],
 "metadata": {
  "kernelspec": {
   "display_name": "Python 3 (ipykernel)",
   "language": "python",
   "name": "python3"
  },
  "language_info": {
   "codemirror_mode": {
    "name": "ipython",
    "version": 3
   },
   "file_extension": ".py",
   "mimetype": "text/x-python",
   "name": "python",
   "nbconvert_exporter": "python",
   "pygments_lexer": "ipython3",
   "version": "3.10.18"
  }
 },
 "nbformat": 4,
 "nbformat_minor": 4
}
