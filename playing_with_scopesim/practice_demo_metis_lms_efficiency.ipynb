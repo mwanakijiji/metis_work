{
 "cells": [
  {
   "cell_type": "markdown",
   "metadata": {},
   "source": [
    "# METIS LMS Efficiency\n",
    "\n",
    "This notebook demonstrates the effect `MetisLMSEfficiency`. Here we use it standalone to reproduce Figure 6 from E-REP-ATC-MET-1016 (v1.0) to show that the effect computes the efficiency correctly."
   ]
  },
  {
   "cell_type": "code",
   "execution_count": 6,
   "metadata": {},
   "outputs": [
    {
     "name": "stdout",
     "output_type": "stream",
     "text": [
      "Python:\n",
      "3.10.18 (main, Jun  5 2025, 13:08:10) [GCC 11.2.0]\n",
      "\n",
      "Installed Python packages:\n",
      "           anisocado: 0.3.0\n",
      "         astar-utils: 0.3.3\n",
      "             astropy: 6.1.7\n",
      "      beautifulsoup4: 4.13.4\n",
      "            docutils: 0.19\n",
      "               httpx: 0.28.1\n",
      "                lxml: 5.4.0\n",
      "          matplotlib: 3.10.5\n",
      "      more-itertools: 10.7.0\n",
      "               numpy: 1.26.4\n",
      "           packaging: 25.0\n",
      "               pooch: 1.8.2\n",
      "              pyyaml: 6.0.2\n",
      "               scipy: 1.15.3\n",
      "            scopesim: 0.10.0\n",
      "       scopesim_data: could not be loaded.\n",
      "  scopesim_templates: 0.6.2\n",
      "         skycalc-ipy: 0.5.3\n",
      "             synphot: 1.6.0\n",
      "                tqdm: 4.67.1\n",
      "\n",
      "Installed IRDB packages:\n",
      "                    bin: version number not available.\n",
      "                   boot: version number not available.\n",
      "                    dev: version number not available.\n",
      "                    etc: version number not available.\n",
      "                   home: version number not available.\n",
      "                    lib: version number not available.\n",
      "                  media: version number not available.\n",
      "                    mnt: version number not available.\n",
      "                    opt: version number not available.\n",
      "                   proc: version number not available.\n",
      "                   root: version number not available.\n",
      "                    run: version number not available.\n",
      "                   sbin: version number not available.\n",
      "                    srv: version number not available.\n",
      "                    sys: version number not available.\n",
      "                    tmp: version number not available.\n",
      "                    usr: version number not available.\n",
      "                    var: version number not available.\n",
      "  playing_with_scopesim: version number not available.\n",
      "                  METIS: 2025-06-30\n",
      "                    ELT: 2025-06-30\n",
      "              Armazones: 2023-07-11\n",
      "           podman-share: version number not available.\n",
      "              input_dir: version number not available.\n",
      "             output_dir: version number not available.\n",
      "\n",
      "Operating System info:\n",
      "   System: Linux\n",
      "  Release: 6.12.13-200.fc41.aarch64\n",
      "  Version: #1 SMP PREEMPT_DYNAMIC Sat Feb  8 20:30:50 UTC 2025\n",
      "  Machine: aarch64\n"
     ]
    }
   ],
   "source": [
    "import numpy as np\n",
    "from astropy import units as u\n",
    "from matplotlib import pyplot as plt\n",
    "\n",
    "import scopesim as sim\n",
    "from scopesim.effects.metis_lms_trace_list import MetisLMSEfficiency\n",
    "\n",
    "sim.bug_report()\n",
    "\n",
    "# Edit this path if you have a custom install directory, otherwise comment it out.\n",
    "sim.link_irdb(\"../../../../\")"
   ]
  },
  {
   "cell_type": "markdown",
   "metadata": {},
   "source": [
    "If you haven't got the instrument package yet, uncomment the following cell. The METIS package provides the spectral trace definition file. The ELT and Armazones packages are not needed for the purposes of this notebook."
   ]
  },
  {
   "cell_type": "code",
   "execution_count": null,
   "metadata": {},
   "outputs": [],
   "source": [
    "# sim.download_packages(\"METIS\")"
   ]
  },
  {
   "cell_type": "markdown",
   "metadata": {},
   "source": [
    "When simulating an LMS observation, the user selects a target wavelength by setting `cmd['!OBS.wavelen']`, e.g. 4.2 (microns). In normal use, the efficiency is instantiated as an effect within the `OpticalTrain`. Here, we instantiate the effect directly as"
   ]
  },
  {
   "cell_type": "code",
   "execution_count": 7,
   "metadata": {},
   "outputs": [
    {
     "name": "stdout",
     "output_type": "stream",
     "text": [
      "\u001b[31m\u001b[1mastar.scopesim.utils - ERROR: File cannot be found: ../../../TRACE_LMS.fits\u001b[0m\n",
      "\u001b[31m\u001b[1mastar.scopesim.utils - ERROR: File cannot be found: ../../../TRACE_LMS.fits\u001b[0m\n",
      "\u001b[31m\u001b[1mastar.scopesim.utils - ERROR: File cannot be found: ../../../TRACE_LMS.fits\u001b[0m\n"
     ]
    },
    {
     "ename": "ValueError",
     "evalue": "Empty filename: None",
     "output_type": "error",
     "traceback": [
      "\u001b[0;31m---------------------------------------------------------------------------\u001b[0m",
      "\u001b[0;31mValueError\u001b[0m                                Traceback (most recent call last)",
      "Cell \u001b[0;32mIn[7], line 1\u001b[0m\n\u001b[0;32m----> 1\u001b[0m eff \u001b[38;5;241m=\u001b[39m \u001b[43mMetisLMSEfficiency\u001b[49m\u001b[43m(\u001b[49m\u001b[43mwavelen\u001b[49m\u001b[38;5;241;43m=\u001b[39;49m\u001b[38;5;241;43m4.2\u001b[39;49m\u001b[43m,\u001b[49m\u001b[43m \u001b[49m\u001b[43mfilename\u001b[49m\u001b[38;5;241;43m=\u001b[39;49m\u001b[38;5;124;43m\"\u001b[39;49m\u001b[38;5;124;43m../../../TRACE_LMS.fits\u001b[39;49m\u001b[38;5;124;43m\"\u001b[39;49m\u001b[43m)\u001b[49m\n",
      "File \u001b[0;32m~/miniconda3/envs/scopesim/lib/python3.10/site-packages/scopesim/effects/metis_lms_trace_list.py:576\u001b[0m, in \u001b[0;36mMetisLMSEfficiency.__init__\u001b[0;34m(self, **kwargs)\u001b[0m\n\u001b[1;32m    573\u001b[0m \u001b[38;5;28;01massert\u001b[39;00m \u001b[38;5;124m\"\u001b[39m\u001b[38;5;124mgrat_spacing\u001b[39m\u001b[38;5;124m\"\u001b[39m \u001b[38;5;129;01min\u001b[39;00m \u001b[38;5;28mself\u001b[39m\u001b[38;5;241m.\u001b[39mmeta, \u001b[38;5;124m\"\u001b[39m\u001b[38;5;124mgrat_spacing is missing from self.meta 2\u001b[39m\u001b[38;5;124m\"\u001b[39m\n\u001b[1;32m    575\u001b[0m filename \u001b[38;5;241m=\u001b[39m find_file(\u001b[38;5;28mself\u001b[39m\u001b[38;5;241m.\u001b[39mmeta[\u001b[38;5;124m\"\u001b[39m\u001b[38;5;124mfilename\u001b[39m\u001b[38;5;124m\"\u001b[39m])\n\u001b[0;32m--> 576\u001b[0m wcal \u001b[38;5;241m=\u001b[39m \u001b[43mfits\u001b[49m\u001b[38;5;241;43m.\u001b[39;49m\u001b[43mgetdata\u001b[49m\u001b[43m(\u001b[49m\u001b[43mfilename\u001b[49m\u001b[43m,\u001b[49m\u001b[43m \u001b[49m\u001b[43mextname\u001b[49m\u001b[38;5;241;43m=\u001b[39;49m\u001b[38;5;124;43m\"\u001b[39;49m\u001b[38;5;124;43mWCAL\u001b[39;49m\u001b[38;5;124;43m\"\u001b[39;49m\u001b[43m)\u001b[49m\n\u001b[1;32m    577\u001b[0m \u001b[38;5;28;01mif\u001b[39;00m \u001b[38;5;124m\"\u001b[39m\u001b[38;5;124mwavelen\u001b[39m\u001b[38;5;124m\"\u001b[39m \u001b[38;5;129;01min\u001b[39;00m kwargs:\n\u001b[1;32m    578\u001b[0m     wavelen \u001b[38;5;241m=\u001b[39m from_currsys(kwargs[\u001b[38;5;124m\"\u001b[39m\u001b[38;5;124mwavelen\u001b[39m\u001b[38;5;124m\"\u001b[39m], kwargs\u001b[38;5;241m.\u001b[39mget(\u001b[38;5;124m\"\u001b[39m\u001b[38;5;124mcmds\u001b[39m\u001b[38;5;124m\"\u001b[39m))\n",
      "File \u001b[0;32m~/miniconda3/envs/scopesim/lib/python3.10/site-packages/astropy/io/fits/convenience.py:220\u001b[0m, in \u001b[0;36mgetdata\u001b[0;34m(filename, header, lower, upper, view, *args, **kwargs)\u001b[0m\n\u001b[1;32m    215\u001b[0m extver \u001b[38;5;241m=\u001b[39m kwargs\u001b[38;5;241m.\u001b[39mget(\u001b[38;5;124m\"\u001b[39m\u001b[38;5;124mextver\u001b[39m\u001b[38;5;124m\"\u001b[39m)\n\u001b[1;32m    216\u001b[0m ext_given \u001b[38;5;241m=\u001b[39m \u001b[38;5;129;01mnot\u001b[39;00m (\n\u001b[1;32m    217\u001b[0m     \u001b[38;5;28mlen\u001b[39m(args) \u001b[38;5;241m==\u001b[39m \u001b[38;5;241m0\u001b[39m \u001b[38;5;129;01mand\u001b[39;00m ext \u001b[38;5;129;01mis\u001b[39;00m \u001b[38;5;28;01mNone\u001b[39;00m \u001b[38;5;129;01mand\u001b[39;00m extname \u001b[38;5;129;01mis\u001b[39;00m \u001b[38;5;28;01mNone\u001b[39;00m \u001b[38;5;129;01mand\u001b[39;00m extver \u001b[38;5;129;01mis\u001b[39;00m \u001b[38;5;28;01mNone\u001b[39;00m\n\u001b[1;32m    218\u001b[0m )\n\u001b[0;32m--> 220\u001b[0m hdulist, extidx \u001b[38;5;241m=\u001b[39m \u001b[43m_getext\u001b[49m\u001b[43m(\u001b[49m\u001b[43mfilename\u001b[49m\u001b[43m,\u001b[49m\u001b[43m \u001b[49m\u001b[43mmode\u001b[49m\u001b[43m,\u001b[49m\u001b[43m \u001b[49m\u001b[38;5;241;43m*\u001b[39;49m\u001b[43margs\u001b[49m\u001b[43m,\u001b[49m\u001b[43m \u001b[49m\u001b[38;5;241;43m*\u001b[39;49m\u001b[38;5;241;43m*\u001b[39;49m\u001b[43mkwargs\u001b[49m\u001b[43m)\u001b[49m\n\u001b[1;32m    221\u001b[0m \u001b[38;5;28;01mtry\u001b[39;00m:\n\u001b[1;32m    222\u001b[0m     hdu \u001b[38;5;241m=\u001b[39m hdulist[extidx]\n",
      "File \u001b[0;32m~/miniconda3/envs/scopesim/lib/python3.10/site-packages/astropy/io/fits/convenience.py:1121\u001b[0m, in \u001b[0;36m_getext\u001b[0;34m(filename, mode, ext, extname, extver, *args, **kwargs)\u001b[0m\n\u001b[1;32m   1118\u001b[0m \u001b[38;5;28;01melif\u001b[39;00m extver \u001b[38;5;129;01mand\u001b[39;00m extname \u001b[38;5;129;01mis\u001b[39;00m \u001b[38;5;28;01mNone\u001b[39;00m:\n\u001b[1;32m   1119\u001b[0m     \u001b[38;5;28;01mraise\u001b[39;00m \u001b[38;5;167;01mTypeError\u001b[39;00m(\u001b[38;5;124m\"\u001b[39m\u001b[38;5;124mextver alone cannot specify an extension.\u001b[39m\u001b[38;5;124m\"\u001b[39m)\n\u001b[0;32m-> 1121\u001b[0m hdulist \u001b[38;5;241m=\u001b[39m \u001b[43mfitsopen\u001b[49m\u001b[43m(\u001b[49m\u001b[43mfilename\u001b[49m\u001b[43m,\u001b[49m\u001b[43m \u001b[49m\u001b[43mmode\u001b[49m\u001b[38;5;241;43m=\u001b[39;49m\u001b[43mmode\u001b[49m\u001b[43m,\u001b[49m\u001b[43m \u001b[49m\u001b[38;5;241;43m*\u001b[39;49m\u001b[38;5;241;43m*\u001b[39;49m\u001b[43mkwargs\u001b[49m\u001b[43m)\u001b[49m\n\u001b[1;32m   1123\u001b[0m \u001b[38;5;28;01mreturn\u001b[39;00m hdulist, ext\n",
      "File \u001b[0;32m~/miniconda3/envs/scopesim/lib/python3.10/site-packages/astropy/io/fits/hdu/hdulist.py:221\u001b[0m, in \u001b[0;36mfitsopen\u001b[0;34m(name, mode, memmap, save_backup, cache, lazy_load_hdus, ignore_missing_simple, use_fsspec, fsspec_kwargs, decompress_in_memory, **kwargs)\u001b[0m\n\u001b[1;32m    218\u001b[0m     kwargs[\u001b[38;5;124m\"\u001b[39m\u001b[38;5;124muint\u001b[39m\u001b[38;5;124m\"\u001b[39m] \u001b[38;5;241m=\u001b[39m conf\u001b[38;5;241m.\u001b[39menable_uint\n\u001b[1;32m    220\u001b[0m \u001b[38;5;28;01mif\u001b[39;00m \u001b[38;5;129;01mnot\u001b[39;00m name:\n\u001b[0;32m--> 221\u001b[0m     \u001b[38;5;28;01mraise\u001b[39;00m \u001b[38;5;167;01mValueError\u001b[39;00m(\u001b[38;5;124mf\u001b[39m\u001b[38;5;124m\"\u001b[39m\u001b[38;5;124mEmpty filename: \u001b[39m\u001b[38;5;132;01m{\u001b[39;00mname\u001b[38;5;132;01m!r}\u001b[39;00m\u001b[38;5;124m\"\u001b[39m)\n\u001b[1;32m    223\u001b[0m \u001b[38;5;28;01mreturn\u001b[39;00m HDUList\u001b[38;5;241m.\u001b[39mfromfile(\n\u001b[1;32m    224\u001b[0m     name,\n\u001b[1;32m    225\u001b[0m     mode,\n\u001b[0;32m   (...)\u001b[0m\n\u001b[1;32m    234\u001b[0m     \u001b[38;5;241m*\u001b[39m\u001b[38;5;241m*\u001b[39mkwargs,\n\u001b[1;32m    235\u001b[0m )\n",
      "\u001b[0;31mValueError\u001b[0m: Empty filename: None"
     ]
    }
   ],
   "source": [
    "eff = MetisLMSEfficiency(wavelen=4.2, filename=\"../../../TRACE_LMS.fits\")"
   ]
  },
  {
   "cell_type": "markdown",
   "metadata": {},
   "source": [
    "The effect automatically selects the echelle order for that wavelength and computes the grating efficiency."
   ]
  },
  {
   "cell_type": "code",
   "execution_count": 3,
   "metadata": {},
   "outputs": [
    {
     "ename": "NameError",
     "evalue": "name 'eff' is not defined",
     "output_type": "error",
     "traceback": [
      "\u001b[0;31m---------------------------------------------------------------------------\u001b[0m",
      "\u001b[0;31mNameError\u001b[0m                                 Traceback (most recent call last)",
      "Cell \u001b[0;32mIn[3], line 1\u001b[0m\n\u001b[0;32m----> 1\u001b[0m \u001b[38;5;28mprint\u001b[39m(\u001b[43meff\u001b[49m\u001b[38;5;241m.\u001b[39mmeta[\u001b[38;5;124m\"\u001b[39m\u001b[38;5;124morder\u001b[39m\u001b[38;5;124m\"\u001b[39m])\n",
      "\u001b[0;31mNameError\u001b[0m: name 'eff' is not defined"
     ]
    }
   ],
   "source": [
    "print(eff.meta[\"order\"])"
   ]
  },
  {
   "cell_type": "code",
   "execution_count": 4,
   "metadata": {},
   "outputs": [
    {
     "ename": "NameError",
     "evalue": "name 'eff' is not defined",
     "output_type": "error",
     "traceback": [
      "\u001b[0;31m---------------------------------------------------------------------------\u001b[0m",
      "\u001b[0;31mNameError\u001b[0m                                 Traceback (most recent call last)",
      "Cell \u001b[0;32mIn[4], line 1\u001b[0m\n\u001b[0;32m----> 1\u001b[0m \u001b[43meff\u001b[49m\u001b[38;5;241m.\u001b[39msurface\u001b[38;5;241m.\u001b[39mtransmission\u001b[38;5;241m.\u001b[39mplot()\n",
      "\u001b[0;31mNameError\u001b[0m: name 'eff' is not defined"
     ]
    }
   ],
   "source": [
    "eff.surface.transmission.plot()"
   ]
  },
  {
   "cell_type": "markdown",
   "metadata": {},
   "source": [
    "Alternatively, the order can be specified directly. This is used in the following to plot the efficiencies for all orders. The resulting figure can be compared to the original figure from E-REP-ATC-MET-1016."
   ]
  },
  {
   "cell_type": "code",
   "execution_count": 5,
   "metadata": {},
   "outputs": [
    {
     "name": "stdout",
     "output_type": "stream",
     "text": [
      "\u001b[31m\u001b[1mastar.scopesim.utils - ERROR: File cannot be found: ../../../TRACE_LMS.fits\u001b[0m\n",
      "\u001b[31m\u001b[1mastar.scopesim.utils - ERROR: File cannot be found: ../../../TRACE_LMS.fits\u001b[0m\n",
      "\u001b[31m\u001b[1mastar.scopesim.utils - ERROR: File cannot be found: ../../../TRACE_LMS.fits\u001b[0m\n"
     ]
    },
    {
     "ename": "ValueError",
     "evalue": "Empty filename: None",
     "output_type": "error",
     "traceback": [
      "\u001b[0;31m---------------------------------------------------------------------------\u001b[0m",
      "\u001b[0;31mValueError\u001b[0m                                Traceback (most recent call last)",
      "Cell \u001b[0;32mIn[5], line 8\u001b[0m\n\u001b[1;32m      6\u001b[0m plt\u001b[38;5;241m.\u001b[39mxticks(np\u001b[38;5;241m.\u001b[39marange(\u001b[38;5;241m3.0\u001b[39m, \u001b[38;5;241m5.05\u001b[39m, \u001b[38;5;241m0.2\u001b[39m))\n\u001b[1;32m      7\u001b[0m \u001b[38;5;28;01mfor\u001b[39;00m order \u001b[38;5;129;01min\u001b[39;00m np\u001b[38;5;241m.\u001b[39marange(\u001b[38;5;241m22\u001b[39m, \u001b[38;5;241m37\u001b[39m):\n\u001b[0;32m----> 8\u001b[0m     eff \u001b[38;5;241m=\u001b[39m \u001b[43mMetisLMSEfficiency\u001b[49m\u001b[43m(\u001b[49m\u001b[43morder\u001b[49m\u001b[38;5;241;43m=\u001b[39;49m\u001b[43morder\u001b[49m\u001b[43m,\u001b[49m\u001b[43m \u001b[49m\u001b[43mfilename\u001b[49m\u001b[38;5;241;43m=\u001b[39;49m\u001b[38;5;124;43m\"\u001b[39;49m\u001b[38;5;124;43m../../../TRACE_LMS.fits\u001b[39;49m\u001b[38;5;124;43m\"\u001b[39;49m\u001b[43m)\u001b[49m\n\u001b[1;32m      9\u001b[0m     lam \u001b[38;5;241m=\u001b[39m eff\u001b[38;5;241m.\u001b[39msurface\u001b[38;5;241m.\u001b[39mtransmission\u001b[38;5;241m.\u001b[39mwaveset\n\u001b[1;32m     10\u001b[0m     effic \u001b[38;5;241m=\u001b[39m eff\u001b[38;5;241m.\u001b[39msurface\u001b[38;5;241m.\u001b[39mtransmission(lam)\n",
      "File \u001b[0;32m~/miniconda3/envs/scopesim/lib/python3.10/site-packages/scopesim/effects/metis_lms_trace_list.py:576\u001b[0m, in \u001b[0;36mMetisLMSEfficiency.__init__\u001b[0;34m(self, **kwargs)\u001b[0m\n\u001b[1;32m    573\u001b[0m \u001b[38;5;28;01massert\u001b[39;00m \u001b[38;5;124m\"\u001b[39m\u001b[38;5;124mgrat_spacing\u001b[39m\u001b[38;5;124m\"\u001b[39m \u001b[38;5;129;01min\u001b[39;00m \u001b[38;5;28mself\u001b[39m\u001b[38;5;241m.\u001b[39mmeta, \u001b[38;5;124m\"\u001b[39m\u001b[38;5;124mgrat_spacing is missing from self.meta 2\u001b[39m\u001b[38;5;124m\"\u001b[39m\n\u001b[1;32m    575\u001b[0m filename \u001b[38;5;241m=\u001b[39m find_file(\u001b[38;5;28mself\u001b[39m\u001b[38;5;241m.\u001b[39mmeta[\u001b[38;5;124m\"\u001b[39m\u001b[38;5;124mfilename\u001b[39m\u001b[38;5;124m\"\u001b[39m])\n\u001b[0;32m--> 576\u001b[0m wcal \u001b[38;5;241m=\u001b[39m \u001b[43mfits\u001b[49m\u001b[38;5;241;43m.\u001b[39;49m\u001b[43mgetdata\u001b[49m\u001b[43m(\u001b[49m\u001b[43mfilename\u001b[49m\u001b[43m,\u001b[49m\u001b[43m \u001b[49m\u001b[43mextname\u001b[49m\u001b[38;5;241;43m=\u001b[39;49m\u001b[38;5;124;43m\"\u001b[39;49m\u001b[38;5;124;43mWCAL\u001b[39;49m\u001b[38;5;124;43m\"\u001b[39;49m\u001b[43m)\u001b[49m\n\u001b[1;32m    577\u001b[0m \u001b[38;5;28;01mif\u001b[39;00m \u001b[38;5;124m\"\u001b[39m\u001b[38;5;124mwavelen\u001b[39m\u001b[38;5;124m\"\u001b[39m \u001b[38;5;129;01min\u001b[39;00m kwargs:\n\u001b[1;32m    578\u001b[0m     wavelen \u001b[38;5;241m=\u001b[39m from_currsys(kwargs[\u001b[38;5;124m\"\u001b[39m\u001b[38;5;124mwavelen\u001b[39m\u001b[38;5;124m\"\u001b[39m], kwargs\u001b[38;5;241m.\u001b[39mget(\u001b[38;5;124m\"\u001b[39m\u001b[38;5;124mcmds\u001b[39m\u001b[38;5;124m\"\u001b[39m))\n",
      "File \u001b[0;32m~/miniconda3/envs/scopesim/lib/python3.10/site-packages/astropy/io/fits/convenience.py:220\u001b[0m, in \u001b[0;36mgetdata\u001b[0;34m(filename, header, lower, upper, view, *args, **kwargs)\u001b[0m\n\u001b[1;32m    215\u001b[0m extver \u001b[38;5;241m=\u001b[39m kwargs\u001b[38;5;241m.\u001b[39mget(\u001b[38;5;124m\"\u001b[39m\u001b[38;5;124mextver\u001b[39m\u001b[38;5;124m\"\u001b[39m)\n\u001b[1;32m    216\u001b[0m ext_given \u001b[38;5;241m=\u001b[39m \u001b[38;5;129;01mnot\u001b[39;00m (\n\u001b[1;32m    217\u001b[0m     \u001b[38;5;28mlen\u001b[39m(args) \u001b[38;5;241m==\u001b[39m \u001b[38;5;241m0\u001b[39m \u001b[38;5;129;01mand\u001b[39;00m ext \u001b[38;5;129;01mis\u001b[39;00m \u001b[38;5;28;01mNone\u001b[39;00m \u001b[38;5;129;01mand\u001b[39;00m extname \u001b[38;5;129;01mis\u001b[39;00m \u001b[38;5;28;01mNone\u001b[39;00m \u001b[38;5;129;01mand\u001b[39;00m extver \u001b[38;5;129;01mis\u001b[39;00m \u001b[38;5;28;01mNone\u001b[39;00m\n\u001b[1;32m    218\u001b[0m )\n\u001b[0;32m--> 220\u001b[0m hdulist, extidx \u001b[38;5;241m=\u001b[39m \u001b[43m_getext\u001b[49m\u001b[43m(\u001b[49m\u001b[43mfilename\u001b[49m\u001b[43m,\u001b[49m\u001b[43m \u001b[49m\u001b[43mmode\u001b[49m\u001b[43m,\u001b[49m\u001b[43m \u001b[49m\u001b[38;5;241;43m*\u001b[39;49m\u001b[43margs\u001b[49m\u001b[43m,\u001b[49m\u001b[43m \u001b[49m\u001b[38;5;241;43m*\u001b[39;49m\u001b[38;5;241;43m*\u001b[39;49m\u001b[43mkwargs\u001b[49m\u001b[43m)\u001b[49m\n\u001b[1;32m    221\u001b[0m \u001b[38;5;28;01mtry\u001b[39;00m:\n\u001b[1;32m    222\u001b[0m     hdu \u001b[38;5;241m=\u001b[39m hdulist[extidx]\n",
      "File \u001b[0;32m~/miniconda3/envs/scopesim/lib/python3.10/site-packages/astropy/io/fits/convenience.py:1121\u001b[0m, in \u001b[0;36m_getext\u001b[0;34m(filename, mode, ext, extname, extver, *args, **kwargs)\u001b[0m\n\u001b[1;32m   1118\u001b[0m \u001b[38;5;28;01melif\u001b[39;00m extver \u001b[38;5;129;01mand\u001b[39;00m extname \u001b[38;5;129;01mis\u001b[39;00m \u001b[38;5;28;01mNone\u001b[39;00m:\n\u001b[1;32m   1119\u001b[0m     \u001b[38;5;28;01mraise\u001b[39;00m \u001b[38;5;167;01mTypeError\u001b[39;00m(\u001b[38;5;124m\"\u001b[39m\u001b[38;5;124mextver alone cannot specify an extension.\u001b[39m\u001b[38;5;124m\"\u001b[39m)\n\u001b[0;32m-> 1121\u001b[0m hdulist \u001b[38;5;241m=\u001b[39m \u001b[43mfitsopen\u001b[49m\u001b[43m(\u001b[49m\u001b[43mfilename\u001b[49m\u001b[43m,\u001b[49m\u001b[43m \u001b[49m\u001b[43mmode\u001b[49m\u001b[38;5;241;43m=\u001b[39;49m\u001b[43mmode\u001b[49m\u001b[43m,\u001b[49m\u001b[43m \u001b[49m\u001b[38;5;241;43m*\u001b[39;49m\u001b[38;5;241;43m*\u001b[39;49m\u001b[43mkwargs\u001b[49m\u001b[43m)\u001b[49m\n\u001b[1;32m   1123\u001b[0m \u001b[38;5;28;01mreturn\u001b[39;00m hdulist, ext\n",
      "File \u001b[0;32m~/miniconda3/envs/scopesim/lib/python3.10/site-packages/astropy/io/fits/hdu/hdulist.py:221\u001b[0m, in \u001b[0;36mfitsopen\u001b[0;34m(name, mode, memmap, save_backup, cache, lazy_load_hdus, ignore_missing_simple, use_fsspec, fsspec_kwargs, decompress_in_memory, **kwargs)\u001b[0m\n\u001b[1;32m    218\u001b[0m     kwargs[\u001b[38;5;124m\"\u001b[39m\u001b[38;5;124muint\u001b[39m\u001b[38;5;124m\"\u001b[39m] \u001b[38;5;241m=\u001b[39m conf\u001b[38;5;241m.\u001b[39menable_uint\n\u001b[1;32m    220\u001b[0m \u001b[38;5;28;01mif\u001b[39;00m \u001b[38;5;129;01mnot\u001b[39;00m name:\n\u001b[0;32m--> 221\u001b[0m     \u001b[38;5;28;01mraise\u001b[39;00m \u001b[38;5;167;01mValueError\u001b[39;00m(\u001b[38;5;124mf\u001b[39m\u001b[38;5;124m\"\u001b[39m\u001b[38;5;124mEmpty filename: \u001b[39m\u001b[38;5;132;01m{\u001b[39;00mname\u001b[38;5;132;01m!r}\u001b[39;00m\u001b[38;5;124m\"\u001b[39m)\n\u001b[1;32m    223\u001b[0m \u001b[38;5;28;01mreturn\u001b[39;00m HDUList\u001b[38;5;241m.\u001b[39mfromfile(\n\u001b[1;32m    224\u001b[0m     name,\n\u001b[1;32m    225\u001b[0m     mode,\n\u001b[0;32m   (...)\u001b[0m\n\u001b[1;32m    234\u001b[0m     \u001b[38;5;241m*\u001b[39m\u001b[38;5;241m*\u001b[39mkwargs,\n\u001b[1;32m    235\u001b[0m )\n",
      "\u001b[0;31mValueError\u001b[0m: Empty filename: None"
     ]
    },
    {
     "data": {
      "image/png": "[encoded data removed]",
      "text/plain": [
       "<Figure size 800x600 with 1 Axes>"
      ]
     },
     "metadata": {},
     "output_type": "display_data"
    }
   ],
   "source": [
    "plt.figure(figsize=(8, 6))\n",
    "plt.ylim(0, 1)\n",
    "plt.xlim(3.0, 5.05)\n",
    "plt.xlabel(r\"Wavelength [$\\mu$m]\")\n",
    "plt.ylabel(\"Efficiency\")\n",
    "plt.xticks(np.arange(3.0, 5.05, 0.2))\n",
    "for order in np.arange(22, 37):\n",
    "    eff = MetisLMSEfficiency(order=order, filename=\"../../../TRACE_LMS.fits\")\n",
    "    lam = eff.surface.transmission.waveset\n",
    "    effic = eff.surface.transmission(lam)\n",
    "    lammax = lam[np.argmax(effic)]\n",
    "    p = plt.plot(lam.to(u.um), eff.surface.transmission(lam))\n",
    "    plt.text(lammax.to(u.um).value, 0.76, str(order), ha=\"center\", color=p[0].get_color())"
   ]
  },
  {
   "cell_type": "code",
   "execution_count": null,
   "metadata": {},
   "outputs": [],
   "source": []
  }
 ],
 "metadata": {
  "kernelspec": {
   "display_name": "Python 3 (ipykernel)",
   "language": "python",
   "name": "python3"
  },
  "language_info": {
   "codemirror_mode": {
    "name": "ipython",
    "version": 3
   },
   "file_extension": ".py",
   "mimetype": "text/x-python",
   "name": "python",
   "nbconvert_exporter": "python",
   "pygments_lexer": "ipython3",
   "version": "3.10.18"
  }
 },
 "nbformat": 4,
 "nbformat_minor": 4
}
